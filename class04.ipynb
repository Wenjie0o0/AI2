{
  "nbformat": 4,
  "nbformat_minor": 0,
  "metadata": {
    "colab": {
      "name": "class04.ipynb",
      "provenance": [],
      "collapsed_sections": [],
      "authorship_tag": "ABX9TyPXk1BiClP9UGH9WWYf+Jgc",
      "include_colab_link": true
    },
    "kernelspec": {
      "name": "python3",
      "display_name": "Python 3"
    },
    "language_info": {
      "name": "python"
    },
    "accelerator": "GPU",
    "gpuClass": "standard"
  },
  "cells": [
    {
      "cell_type": "markdown",
      "metadata": {
        "id": "view-in-github",
        "colab_type": "text"
      },
      "source": [
        "<a href=\"https://colab.research.google.com/github/Wenjie0o0/ClassAI/blob/main/class04.ipynb\" target=\"_parent\"><img src=\"https://colab.research.google.com/assets/colab-badge.svg\" alt=\"Open In Colab\"/></a>"
      ]
    },
    {
      "cell_type": "code",
      "execution_count": 44,
      "metadata": {
        "id": "2bajzcVucZ3S"
      },
      "outputs": [],
      "source": [
        "import numpy as np\n",
        "import cv2\n",
        "import matplotlib.pyplot as plt\n",
        "from google.colab import drive"
      ]
    },
    {
      "cell_type": "code",
      "source": [
        "drive.mount(\"/content/drive\")"
      ],
      "metadata": {
        "colab": {
          "base_uri": "https://localhost:8080/"
        },
        "id": "gWUxraoshrjI",
        "outputId": "9d0e654a-6ffd-4887-9ad0-f24e716981a9"
      },
      "execution_count": 45,
      "outputs": [
        {
          "output_type": "stream",
          "name": "stdout",
          "text": [
            "Drive already mounted at /content/drive; to attempt to forcibly remount, call drive.mount(\"/content/drive\", force_remount=True).\n"
          ]
        }
      ]
    },
    {
      "cell_type": "code",
      "source": [
        "path=\"./content/drive/MyDrive/Colab Notebooks/cat.jpg\""
      ],
      "metadata": {
        "id": "qooMhkQHhxPd"
      },
      "execution_count": 46,
      "outputs": []
    },
    {
      "cell_type": "code",
      "source": [
        ""
      ],
      "metadata": {
        "id": "Z66uPw0SiRCk"
      },
      "execution_count": 46,
      "outputs": []
    },
    {
      "cell_type": "code",
      "source": [
        ""
      ],
      "metadata": {
        "id": "7KwKCr63qdNZ"
      },
      "execution_count": 46,
      "outputs": []
    },
    {
      "cell_type": "code",
      "source": [
        "import torch\n",
        "import torch.nn as nn\n",
        "import torchvision\n",
        "import torchvision.transforms as transforms\n",
        "import torch.nn.functional as F\n",
        "\n",
        "# device\n",
        "device = torch.device(\"cuda\" if torch.cuda.is_available() else \"cpu\")"
      ],
      "metadata": {
        "id": "EJdGPyCXjmkF"
      },
      "execution_count": 47,
      "outputs": []
    },
    {
      "cell_type": "code",
      "source": [
        "BATCH_SIZE = 64\n",
        "num_classes = 10\n",
        "epochs = 10\n",
        "learning_rate = 1e-4 # 0.0001"
      ],
      "metadata": {
        "id": "zbH1N5FWjrJA"
      },
      "execution_count": 48,
      "outputs": []
    },
    {
      "cell_type": "code",
      "source": [
        "# Dataset\n",
        "train_dataset = torchvision.datasets.MNIST(root='./data', train=True, transform=transforms.ToTensor(), download=True)\n",
        "test_dataset = torchvision.datasets.MNIST(root='./data', train=False, transform=transforms.ToTensor(), download=True)\n",
        "train_loader = torch.utils.data.DataLoader(dataset=train_dataset, batch_size = BATCH_SIZE, shuffle = True)\n",
        "test_loader = torch.utils.data.DataLoader(dataset=test_dataset, batch_size = BATCH_SIZE, shuffle = False)\n",
        "iterator = iter(train_loader)\n",
        "images, labels = next(iterator)\n",
        "fig, axes = plt.subplots(1,20, figsize=(15, 15))\n",
        "for i in range(20):\n",
        "  axes[i].imshow(images[i][0], cmap = 'gray')\n",
        "  axes[i].set_axis_off()\n",
        "fig.show()"
      ],
      "metadata": {
        "colab": {
          "base_uri": "https://localhost:8080/",
          "height": 66
        },
        "id": "DoJr1X1XjthV",
        "outputId": "b965c237-c16a-4153-8039-04debe89ab5f"
      },
      "execution_count": 49,
      "outputs": [
        {
          "output_type": "display_data",
          "data": {
            "text/plain": [
              "<Figure size 1080x1080 with 20 Axes>"
            ],
            "image/png": "[encoded data removed]"
          },
          "metadata": {
            "needs_background": "light"
          }
        }
      ]
    },
    {
      "cell_type": "code",
      "source": [
        "class ConvNet(nn.Module):\n",
        "  def __init__(self):\n",
        "    super().__init__()\n",
        "    '''\n",
        "    self.conv1=nn.Conv2d(in_channels=1,out_channels=16,kernel_size=3,stride=1,padding=1)\n",
        "    self.conv2=nn.Conv2d(in_channels=16,out_channels=16,kernel_size=3,stride=1,padding=1)\n",
        "    self.pool1=nn.MaxPool2d(2,2) #16*7*7\n",
        "    self.conv3=nn.Conv2d(in_channels=16,out_channels=32,kernel_size=3,stride=1,padding=1)\n",
        "    self.conv4=nn.Conv2d(in_channels=32,out_channels=32,kernel_size=3,stride=1,padding=1)\n",
        "    self.pool2=nn.MaxPool2d(2,2) #32*7*7\n",
        "    self.fc1=nn.Linear(32*7*7,128)\n",
        "    self.fc2=nn.Linear(128,10)\n",
        "'''\n",
        "    #sequential\n",
        "    self.conv = nn.Sequential(\n",
        "        nn.Conv2d(in_channels=1, out_channels=16, kernel_size=3, stride=1, padding=1),\n",
        "        nn.ReLU(),\n",
        "        nn.Conv2d(in_channels=16, out_channels=16, kernel_size=3, stride=1, padding=1),\n",
        "        nn.ReLU(),\n",
        "        nn.MaxPool2d(2,2),\n",
        "        nn.Conv2d(in_channels=16, out_channels=32, kernel_size=3, stride=1, padding=1),\n",
        "        nn.ReLU(),\n",
        "        nn.Conv2d(in_channels=32, out_channels=32, kernel_size=3, stride=1, padding=1),\n",
        "        nn.ReLU(),\n",
        "        nn.MaxPool2d(2,2),\n",
        "    )\n",
        "    self.fcs = nn.Sequential(\n",
        "        nn.Linear(32*7*7,128),\n",
        "        nn.ReLU(),\n",
        "        nn.Linear(128,10)\n",
        "    )\n",
        "   \n",
        "  def forward(self,x):\n",
        "    '''\n",
        "    x=F.relu(self.conv1(x))\n",
        "    x=F.relu(self.conv2(x))\n",
        "    x=self.pool1(x)\n",
        "    x=F.relu(self.conv3(x))\n",
        "    x=F.relu(self.conv4(x))\n",
        "    x=self.pool2(x)\n",
        "    x=x.view(-1,32*7*7)\n",
        "    x=F.relu(self.fc1(x))\n",
        "    output=self.fc2(x)\n",
        "    return output\n",
        "    '''\n",
        "    x = self.conv(x)\n",
        "    x = x.view(-1, 32*7*7)\n",
        "    output = self.fcs(x)\n",
        "    return output"
      ],
      "metadata": {
        "id": "eJbvDrutjx8-"
      },
      "execution_count": 50,
      "outputs": []
    },
    {
      "cell_type": "code",
      "source": [
        "cnn=ConvNet().to(device)\n",
        "print(cnn)"
      ],
      "metadata": {
        "colab": {
          "base_uri": "https://localhost:8080/"
        },
        "id": "YHzWtCOBlTDS",
        "outputId": "845dd5ed-8b55-48af-a83a-32cd9a168905"
      },
      "execution_count": 51,
      "outputs": [
        {
          "output_type": "stream",
          "name": "stdout",
          "text": [
            "ConvNet(\n",
            "  (conv): Sequential(\n",
            "    (0): Conv2d(1, 16, kernel_size=(3, 3), stride=(1, 1), padding=(1, 1))\n",
            "    (1): ReLU()\n",
            "    (2): Conv2d(16, 16, kernel_size=(3, 3), stride=(1, 1), padding=(1, 1))\n",
            "    (3): ReLU()\n",
            "    (4): MaxPool2d(kernel_size=2, stride=2, padding=0, dilation=1, ceil_mode=False)\n",
            "    (5): Conv2d(16, 32, kernel_size=(3, 3), stride=(1, 1), padding=(1, 1))\n",
            "    (6): ReLU()\n",
            "    (7): Conv2d(32, 32, kernel_size=(3, 3), stride=(1, 1), padding=(1, 1))\n",
            "    (8): ReLU()\n",
            "    (9): MaxPool2d(kernel_size=2, stride=2, padding=0, dilation=1, ceil_mode=False)\n",
            "  )\n",
            "  (fcs): Sequential(\n",
            "    (0): Linear(in_features=1568, out_features=128, bias=True)\n",
            "    (1): ReLU()\n",
            "    (2): Linear(in_features=128, out_features=10, bias=True)\n",
            "  )\n",
            ")\n"
          ]
        }
      ]
    },
    {
      "cell_type": "code",
      "source": [
        "criterion=nn.CrossEntropyLoss()\n",
        "optimizer=torch.optim.Adam(cnn.parameters(),lr=learning_rate)"
      ],
      "metadata": {
        "id": "TWN2oYYvmmfA"
      },
      "execution_count": 52,
      "outputs": []
    },
    {
      "cell_type": "code",
      "source": [
        "total_steps = len(train_loader)\n",
        "for epoch in range(epochs):\n",
        "  for i, (images, labels) in enumerate(train_loader):\n",
        "    # origin shape: [64, 1, 28, 28]\n",
        "    images = images.to(device)\n",
        "    labels = labels.to(device)\n",
        "\n",
        "    # Forward pass\n",
        "    outputs = cnn(images)\n",
        "    loss = criterion(outputs, labels)\n",
        "    # Backward and optimize\n",
        "    optimizer.zero_grad()\n",
        "    loss.backward()\n",
        "    optimizer.step()\n",
        "\n",
        "    if (i+1) % 100 == 0:\n",
        "      print (f'Epoch {epoch+1}, Step [{i+1}/{total_steps}], Loss: {loss.item():.4f}')"
      ],
      "metadata": {
        "colab": {
          "base_uri": "https://localhost:8080/"
        },
        "id": "hhpmR5ZTpbAV",
        "outputId": "706c7d21-423d-4c9e-e0b5-d8ec74525580"
      },
      "execution_count": 53,
      "outputs": [
        {
          "output_type": "stream",
          "name": "stdout",
          "text": [
            "Epoch 1, Step [100/938], Loss: 1.7249\n",
            "Epoch 1, Step [200/938], Loss: 0.5000\n",
            "Epoch 1, Step [300/938], Loss: 0.3988\n",
            "Epoch 1, Step [400/938], Loss: 0.5275\n",
            "Epoch 1, Step [500/938], Loss: 0.2329\n",
            "Epoch 1, Step [600/938], Loss: 0.2869\n",
            "Epoch 1, Step [700/938], Loss: 0.1531\n",
            "Epoch 1, Step [800/938], Loss: 0.2853\n",
            "Epoch 1, Step [900/938], Loss: 0.0911\n",
            "Epoch 2, Step [100/938], Loss: 0.1877\n",
            "Epoch 2, Step [200/938], Loss: 0.1245\n",
            "Epoch 2, Step [300/938], Loss: 0.2473\n",
            "Epoch 2, Step [400/938], Loss: 0.1025\n",
            "Epoch 2, Step [500/938], Loss: 0.1782\n",
            "Epoch 2, Step [600/938], Loss: 0.3051\n",
            "Epoch 2, Step [700/938], Loss: 0.3476\n",
            "Epoch 2, Step [800/938], Loss: 0.0773\n",
            "Epoch 2, Step [900/938], Loss: 0.0710\n",
            "Epoch 3, Step [100/938], Loss: 0.0898\n",
            "Epoch 3, Step [200/938], Loss: 0.1028\n",
            "Epoch 3, Step [300/938], Loss: 0.1062\n",
            "Epoch 3, Step [400/938], Loss: 0.1987\n",
            "Epoch 3, Step [500/938], Loss: 0.0542\n",
            "Epoch 3, Step [600/938], Loss: 0.0152\n",
            "Epoch 3, Step [700/938], Loss: 0.2538\n",
            "Epoch 3, Step [800/938], Loss: 0.5185\n",
            "Epoch 3, Step [900/938], Loss: 0.0624\n",
            "Epoch 4, Step [100/938], Loss: 0.1455\n",
            "Epoch 4, Step [200/938], Loss: 0.3368\n",
            "Epoch 4, Step [300/938], Loss: 0.1479\n",
            "Epoch 4, Step [400/938], Loss: 0.1120\n",
            "Epoch 4, Step [500/938], Loss: 0.1221\n",
            "Epoch 4, Step [600/938], Loss: 0.0153\n",
            "Epoch 4, Step [700/938], Loss: 0.0600\n",
            "Epoch 4, Step [800/938], Loss: 0.0812\n",
            "Epoch 4, Step [900/938], Loss: 0.1452\n",
            "Epoch 5, Step [100/938], Loss: 0.1211\n",
            "Epoch 5, Step [200/938], Loss: 0.0096\n",
            "Epoch 5, Step [300/938], Loss: 0.0662\n",
            "Epoch 5, Step [400/938], Loss: 0.0790\n",
            "Epoch 5, Step [500/938], Loss: 0.1437\n",
            "Epoch 5, Step [600/938], Loss: 0.0831\n",
            "Epoch 5, Step [700/938], Loss: 0.0929\n",
            "Epoch 5, Step [800/938], Loss: 0.0129\n",
            "Epoch 5, Step [900/938], Loss: 0.3139\n",
            "Epoch 6, Step [100/938], Loss: 0.0124\n",
            "Epoch 6, Step [200/938], Loss: 0.0900\n",
            "Epoch 6, Step [300/938], Loss: 0.0651\n",
            "Epoch 6, Step [400/938], Loss: 0.0650\n",
            "Epoch 6, Step [500/938], Loss: 0.0169\n",
            "Epoch 6, Step [600/938], Loss: 0.0081\n",
            "Epoch 6, Step [700/938], Loss: 0.0222\n",
            "Epoch 6, Step [800/938], Loss: 0.0504\n",
            "Epoch 6, Step [900/938], Loss: 0.0048\n",
            "Epoch 7, Step [100/938], Loss: 0.1024\n",
            "Epoch 7, Step [200/938], Loss: 0.0138\n",
            "Epoch 7, Step [300/938], Loss: 0.1050\n",
            "Epoch 7, Step [400/938], Loss: 0.0569\n",
            "Epoch 7, Step [500/938], Loss: 0.0554\n",
            "Epoch 7, Step [600/938], Loss: 0.0308\n",
            "Epoch 7, Step [700/938], Loss: 0.0256\n",
            "Epoch 7, Step [800/938], Loss: 0.0505\n",
            "Epoch 7, Step [900/938], Loss: 0.0770\n",
            "Epoch 8, Step [100/938], Loss: 0.0186\n",
            "Epoch 8, Step [200/938], Loss: 0.0119\n",
            "Epoch 8, Step [300/938], Loss: 0.0056\n",
            "Epoch 8, Step [400/938], Loss: 0.0332\n",
            "Epoch 8, Step [500/938], Loss: 0.0424\n",
            "Epoch 8, Step [600/938], Loss: 0.0786\n",
            "Epoch 8, Step [700/938], Loss: 0.0823\n",
            "Epoch 8, Step [800/938], Loss: 0.0102\n",
            "Epoch 8, Step [900/938], Loss: 0.0654\n",
            "Epoch 9, Step [100/938], Loss: 0.1755\n",
            "Epoch 9, Step [200/938], Loss: 0.0316\n",
            "Epoch 9, Step [300/938], Loss: 0.0294\n",
            "Epoch 9, Step [400/938], Loss: 0.0291\n",
            "Epoch 9, Step [500/938], Loss: 0.0040\n",
            "Epoch 9, Step [600/938], Loss: 0.0307\n",
            "Epoch 9, Step [700/938], Loss: 0.0666\n",
            "Epoch 9, Step [800/938], Loss: 0.0492\n",
            "Epoch 9, Step [900/938], Loss: 0.0060\n",
            "Epoch 10, Step [100/938], Loss: 0.0310\n",
            "Epoch 10, Step [200/938], Loss: 0.0057\n",
            "Epoch 10, Step [300/938], Loss: 0.0070\n",
            "Epoch 10, Step [400/938], Loss: 0.0123\n",
            "Epoch 10, Step [500/938], Loss: 0.0183\n",
            "Epoch 10, Step [600/938], Loss: 0.0086\n",
            "Epoch 10, Step [700/938], Loss: 0.0038\n",
            "Epoch 10, Step [800/938], Loss: 0.0722\n",
            "Epoch 10, Step [900/938], Loss: 0.0265\n"
          ]
        }
      ]
    },
    {
      "cell_type": "code",
      "source": [
        "with torch.no_grad():\n",
        "  n_correct = 0\n",
        "  n_samples = 0\n",
        "  for images, labels in test_loader:\n",
        "    images = images.to(device)\n",
        "    labels = labels.to(device)\n",
        "    outputs = cnn(images)\n",
        "    # max returns (value ,index)\n",
        "    _, predicted = torch.max(outputs, 1)\n",
        "    n_samples += labels.size(0)\n",
        "    n_correct += (predicted == labels).sum().item()\n",
        "\n",
        "  acc = 100.0 * n_correct / n_samples\n",
        "  print(f'Accuracy of the network: {acc} %')"
      ],
      "metadata": {
        "colab": {
          "base_uri": "https://localhost:8080/"
        },
        "id": "5sqKC9PkqJiV",
        "outputId": "ff64530e-bb86-48a4-9bac-5ab550ac3cb9"
      },
      "execution_count": 54,
      "outputs": [
        {
          "output_type": "stream",
          "name": "stdout",
          "text": [
            "Accuracy of the network: 98.78 %\n"
          ]
        }
      ]
    },
    {
      "cell_type": "code",
      "source": [
        "[p.numel() for p in cnn.parameters() if p.requires_grad] #計算參數量"
      ],
      "metadata": {
        "colab": {
          "base_uri": "https://localhost:8080/"
        },
        "id": "_GG4RaOhtJCX",
        "outputId": "18fede77-3cfb-44a2-ff6b-fca7d0280327"
      },
      "execution_count": 55,
      "outputs": [
        {
          "output_type": "execute_result",
          "data": {
            "text/plain": [
              "[144, 16, 2304, 16, 4608, 32, 9216, 32, 200704, 128, 1280, 10]"
            ]
          },
          "metadata": {},
          "execution_count": 55
        }
      ]
    }
  ]
}