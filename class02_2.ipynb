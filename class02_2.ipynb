{
  "nbformat": 4,
  "nbformat_minor": 0,
  "metadata": {
    "colab": {
      "name": "class02-2.ipynb",
      "provenance": [],
      "mount_file_id": "15walDuu8D17iUpWelia-Qu1nJ118hPdN",
      "authorship_tag": "ABX9TyNo1X2BRfb4CtBxs0C0EC9M",
      "include_colab_link": true
    },
    "kernelspec": {
      "name": "python3",
      "display_name": "Python 3"
    },
    "language_info": {
      "name": "python"
    }
  },
  "cells": [
    {
      "cell_type": "markdown",
      "metadata": {
        "id": "view-in-github",
        "colab_type": "text"
      },
      "source": [
        "<a href=\"https://colab.research.google.com/github/Wenjie0o0/ClassAI/blob/main/class02_2.ipynb\" target=\"_parent\"><img src=\"https://colab.research.google.com/assets/colab-badge.svg\" alt=\"Open In Colab\"/></a>"
      ]
    },
    {
      "cell_type": "code",
      "source": [
        "import cv2"
      ],
      "metadata": {
        "id": "p73KW-WftZrU"
      },
      "execution_count": 5,
      "outputs": []
    },
    {
      "cell_type": "code",
      "execution_count": 1,
      "metadata": {
        "colab": {
          "base_uri": "https://localhost:8080/"
        },
        "id": "7sqzIqnWr69p",
        "outputId": "164052a1-df62-415c-9b94-5d16443c1674"
      },
      "outputs": [
        {
          "output_type": "stream",
          "name": "stdout",
          "text": [
            "Drive already mounted at /content/drive; to attempt to forcibly remount, call drive.mount(\"/content/drive\", force_remount=True).\n"
          ]
        }
      ],
      "source": [
        "from google.colab import drive\n",
        "drive.mount('/content/drive')"
      ]
    },
    {
      "cell_type": "code",
      "source": [
        "path='/content/drive/MyDrive/Colab Notebooks/cat.jpg'"
      ],
      "metadata": {
        "id": "eyWHlNfGs-nk"
      },
      "execution_count": 2,
      "outputs": []
    },
    {
      "cell_type": "code",
      "source": [
        "image=cv2.imread(path)\n"
      ],
      "metadata": {
        "id": "wovfmrzLtKH0"
      },
      "execution_count": 6,
      "outputs": []
    },
    {
      "cell_type": "code",
      "source": [
        "print(type(image))\n",
        "print(image.shape)\n",
        "print(image)"
      ],
      "metadata": {
        "colab": {
          "base_uri": "https://localhost:8080/"
        },
        "id": "IdVguSs3tqPL",
        "outputId": "ba368f34-aba7-448f-f749-eef83fefc3e0"
      },
      "execution_count": 7,
      "outputs": [
        {
          "output_type": "stream",
          "name": "stdout",
          "text": [
            "<class 'numpy.ndarray'>\n",
            "(5012, 6837, 3)\n",
            "[[[163 190 217]\n",
            "  [161 188 215]\n",
            "  [162 189 216]\n",
            "  ...\n",
            "  [142 165 197]\n",
            "  [142 165 197]\n",
            "  [142 165 197]]\n",
            "\n",
            " [[162 189 216]\n",
            "  [161 188 215]\n",
            "  [162 189 216]\n",
            "  ...\n",
            "  [142 165 197]\n",
            "  [142 165 197]\n",
            "  [141 164 196]]\n",
            "\n",
            " [[162 189 216]\n",
            "  [161 188 215]\n",
            "  [161 188 215]\n",
            "  ...\n",
            "  [141 164 196]\n",
            "  [141 164 196]\n",
            "  [141 164 196]]\n",
            "\n",
            " ...\n",
            "\n",
            " [[186 186 186]\n",
            "  [185 185 185]\n",
            "  [184 184 184]\n",
            "  ...\n",
            "  [149 147 146]\n",
            "  [151 149 148]\n",
            "  [153 151 150]]\n",
            "\n",
            " [[187 187 187]\n",
            "  [186 186 186]\n",
            "  [185 185 185]\n",
            "  ...\n",
            "  [150 148 147]\n",
            "  [151 149 148]\n",
            "  [152 150 149]]\n",
            "\n",
            " [[187 187 187]\n",
            "  [186 186 186]\n",
            "  [185 185 185]\n",
            "  ...\n",
            "  [148 146 145]\n",
            "  [148 146 145]\n",
            "  [149 147 146]]]\n"
          ]
        }
      ]
    },
    {
      "cell_type": "code",
      "source": [
        "plt.show(image)"
      ],
      "metadata": {
        "colab": {
          "base_uri": "https://localhost:8080/",
          "height": 167
        },
        "id": "UX1cDimMt550",
        "outputId": "5c430488-2cde-47e8-bd5e-06e55b8c2cc7"
      },
      "execution_count": 8,
      "outputs": [
        {
          "output_type": "error",
          "ename": "NameError",
          "evalue": "ignored",
          "traceback": [
            "\u001b[0;31m---------------------------------------------------------------------------\u001b[0m",
            "\u001b[0;31mNameError\u001b[0m                                 Traceback (most recent call last)",
            "\u001b[0;32m<ipython-input-8-0ce11a6fc4c2>\u001b[0m in \u001b[0;36m<module>\u001b[0;34m()\u001b[0m\n\u001b[0;32m----> 1\u001b[0;31m \u001b[0mplt\u001b[0m\u001b[0;34m.\u001b[0m\u001b[0mshow\u001b[0m\u001b[0;34m(\u001b[0m\u001b[0mimage\u001b[0m\u001b[0;34m)\u001b[0m\u001b[0;34m\u001b[0m\u001b[0;34m\u001b[0m\u001b[0m\n\u001b[0m",
            "\u001b[0;31mNameError\u001b[0m: name 'plt' is not defined"
          ]
        }
      ]
    }
  ]
}