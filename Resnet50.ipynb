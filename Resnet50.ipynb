{
  "nbformat": 4,
  "nbformat_minor": 0,
  "metadata": {
    "colab": {
      "name": "Resnet50.ipynb",
      "provenance": [],
      "collapsed_sections": [],
      "authorship_tag": "ABX9TyMqixroyLS/BIlDx7PV9FaQ",
      "include_colab_link": true
    },
    "kernelspec": {
      "name": "python3",
      "display_name": "Python 3"
    },
    "language_info": {
      "name": "python"
    },
    "accelerator": "GPU",
    "gpuClass": "standard"
  },
  "cells": [
    {
      "cell_type": "markdown",
      "metadata": {
        "id": "view-in-github",
        "colab_type": "text"
      },
      "source": [
        "<a href=\"https://colab.research.google.com/github/Wenjie0o0/ClassAI/blob/main/Resnet50.ipynb\" target=\"_parent\"><img src=\"https://colab.research.google.com/assets/colab-badge.svg\" alt=\"Open In Colab\"/></a>"
      ]
    },
    {
      "cell_type": "code",
      "execution_count": 1,
      "metadata": {
        "id": "q02pjmoOVrXV"
      },
      "outputs": [],
      "source": [
        "import torch\n",
        "import torch.nn as nn\n",
        "import torch.nn.functional as F\n",
        "import torchvision\n",
        "from torch.utils.data import Dataset, DataLoader\n",
        "import torchvision.transforms as transforms\n",
        "import numpy as np\n",
        "import matplotlib.pyplot as plt\n",
        "from tqdm import tqdm"
      ]
    },
    {
      "cell_type": "code",
      "source": [
        "# Device configuration\n",
        "device = torch.device('cuda' if torch.cuda.is_available() else 'cpu')"
      ],
      "metadata": {
        "id": "7-_XwgWDsWq4"
      },
      "execution_count": 2,
      "outputs": []
    },
    {
      "cell_type": "code",
      "source": [
        "num_epochs = 10\n",
        "batch_size = 64\n",
        "learning_rate = 1e-4 #0.0001"
      ],
      "metadata": {
        "id": "rnFUDZZ2saEC"
      },
      "execution_count": 3,
      "outputs": []
    },
    {
      "cell_type": "code",
      "source": [
        "transform = transforms.Compose(\n",
        "    [ transforms.Resize([224,224]),\n",
        "      transforms.ToTensor(),\n",
        "      transforms.Normalize((0.5, 0.5, 0.5), (0.5, 0.5, 0.5))])\n",
        "\n",
        "train_dataset = torchvision.datasets.CIFAR10(root='./data', train=True, download=True, transform=transform)\n",
        "\n",
        "test_dataset = torchvision.datasets.CIFAR10(root='./data', train=False, download=True, transform=transform)\n",
        "\n",
        "train_loader = torch.utils.data.DataLoader(train_dataset, batch_size=batch_size, shuffle=True)\n",
        "\n",
        "test_loader = torch.utils.data.DataLoader(test_dataset, batch_size=batch_size, shuffle=False)"
      ],
      "metadata": {
        "colab": {
          "base_uri": "https://localhost:8080/"
        },
        "id": "tkT6aaYesc13",
        "outputId": "29697e7d-e92c-417a-e16f-3b33ed3df27a"
      },
      "execution_count": 4,
      "outputs": [
        {
          "output_type": "stream",
          "name": "stdout",
          "text": [
            "Files already downloaded and verified\n",
            "Files already downloaded and verified\n"
          ]
        }
      ]
    },
    {
      "cell_type": "code",
      "source": [
        "class Resnet(nn.Module):\n",
        "  def __init__(self,block,in_channels=64,num_classes=10):\n",
        "    super().__init__()\n",
        "    self.in_channels=in_channels\n",
        "    \n",
        "    self.conv1=conv_block(in_channels=3,out_channels=64,kernel_size=7,stride=2,padding=3)\n",
        "    self.relu=nn.ReLU()\n",
        "    self.maxpool=nn.MaxPool2d(kernel_size=3,stride=2,padding=1)\n",
        "\n",
        "    self.layer1=self.make_layer(block,64,3,stride=1)\n",
        "    self.layer2=self.make_layer(block,128,4,stride=2)\n",
        "    self.layer3=self.make_layer(block,256,6,stride=2)\n",
        "    self.layer4=self.make_layer(block,512,3,stride=2)\n",
        "\n",
        "    self.avgpool=nn.AdaptiveAvgPool2d((1,1))\n",
        "    self.fc=nn.Linear(2048,num_classes)\n",
        "\n",
        "  def forward(self,x):\n",
        "    x=self.conv1(x)\n",
        "    x=self.relu(x)\n",
        "    x=self.maxpool(x)\n",
        "\n",
        "    x=self.layer1(x)\n",
        "    x=self.layer2(x)\n",
        "    x=self.layer3(x)\n",
        "    x=self.layer4(x)\n",
        "\n",
        "    x=self.avgpool(x)\n",
        "    x=x.reshape(x.shape[0],-1)\n",
        "    x=self.fc(x)\n",
        "    return x\n",
        "\n",
        "  def make_layer(self,block,in_channels,block_num,stride):\n",
        "    block_list=[]\n",
        "    downsample=None\n",
        "    if(stride!=1 or self.in_channels!=in_channels*4):\n",
        "      downsample=nn.Sequential(\n",
        "          conv_block(self.in_channels,in_channels*4,stride=stride,kernel_size=1)\n",
        "      )\n",
        "      \n",
        "      block_list.append(block(self.in_channels,in_channels,stride=stride,downsample=downsample))\n",
        "      self.in_channels=in_channels*4\n",
        "\n",
        "      for i in range(block_num-1):\n",
        "        block_list.append(block(self.in_channels,in_channels))\n",
        "      return nn.Sequential(*block_list)\n",
        "\n",
        "\n",
        "class conv_block(nn.Module):\n",
        "    def __init__(self, in_channels, out_channels, **kwargs):\n",
        "        super().__init__()\n",
        "        \n",
        "        self.conv = nn.Conv2d(in_channels, out_channels, **kwargs)\n",
        "        self.batchnorm = nn.BatchNorm2d(out_channels)\n",
        "        \n",
        "    def forward(self, x):\n",
        "        return self.batchnorm(self.conv(x))\n",
        "\n",
        "class Bottleneck(nn.Module):\n",
        "  def __init__(self,in_channels,out_channels,stride=1,downsample=None):\n",
        "    super(Bottleneck,self).__init__()\n",
        "    self.conv1=conv_block(in_channels,out_channels,kernel_size=1,stride=1,padding=0)\n",
        "    self.conv2=conv_block(out_channels,out_channels,kernel_size=3,stride=stride,padding=1)\n",
        "    self.conv3=conv_block(out_channels,out_channels*4,kernel_size=1,stride=1,padding=0)\n",
        "    self.relu=nn.ReLU()\n",
        "\n",
        "    self.downsample=downsample\n",
        "    self.stride=stride\n",
        "\n",
        "  def forward(self,x):\n",
        "    residual=x.clone()\n",
        "    x=self.conv1(x)\n",
        "    x=self.relu(x)\n",
        "    x=self.conv2(x)\n",
        "    x=self.relu(x)\n",
        "    x=self.conv3(x)\n",
        "    \n",
        "\n",
        "    if self.downsample is not None:\n",
        "      residual=self.downsample(residual)\n",
        "    x+=residual\n",
        "    x=self.relu(x)\n",
        "\n",
        "    return x"
      ],
      "metadata": {
        "id": "0jzDAMjHrC5u"
      },
      "execution_count": 5,
      "outputs": []
    },
    {
      "cell_type": "code",
      "source": [
        "resnet = Resnet(Bottleneck).to(device)"
      ],
      "metadata": {
        "id": "PTPIGMJCwUlx"
      },
      "execution_count": 6,
      "outputs": []
    },
    {
      "cell_type": "code",
      "source": [
        "print(resnet)"
      ],
      "metadata": {
        "colab": {
          "base_uri": "https://localhost:8080/"
        },
        "id": "GYWr4To7wd1h",
        "outputId": "944fb15e-b904-4f20-f525-e63639ad1ffb"
      },
      "execution_count": 7,
      "outputs": [
        {
          "output_type": "stream",
          "name": "stdout",
          "text": [
            "Resnet(\n",
            "  (conv1): conv_block(\n",
            "    (conv): Conv2d(3, 64, kernel_size=(7, 7), stride=(2, 2), padding=(3, 3))\n",
            "    (batchnorm): BatchNorm2d(64, eps=1e-05, momentum=0.1, affine=True, track_running_stats=True)\n",
            "  )\n",
            "  (relu): ReLU()\n",
            "  (maxpool): MaxPool2d(kernel_size=3, stride=2, padding=1, dilation=1, ceil_mode=False)\n",
            "  (layer1): Sequential(\n",
            "    (0): Bottleneck(\n",
            "      (conv1): conv_block(\n",
            "        (conv): Conv2d(64, 64, kernel_size=(1, 1), stride=(1, 1))\n",
            "        (batchnorm): BatchNorm2d(64, eps=1e-05, momentum=0.1, affine=True, track_running_stats=True)\n",
            "      )\n",
            "      (conv2): conv_block(\n",
            "        (conv): Conv2d(64, 64, kernel_size=(3, 3), stride=(1, 1), padding=(1, 1))\n",
            "        (batchnorm): BatchNorm2d(64, eps=1e-05, momentum=0.1, affine=True, track_running_stats=True)\n",
            "      )\n",
            "      (conv3): conv_block(\n",
            "        (conv): Conv2d(64, 256, kernel_size=(1, 1), stride=(1, 1))\n",
            "        (batchnorm): BatchNorm2d(256, eps=1e-05, momentum=0.1, affine=True, track_running_stats=True)\n",
            "      )\n",
            "      (relu): ReLU()\n",
            "      (downsample): Sequential(\n",
            "        (0): conv_block(\n",
            "          (conv): Conv2d(64, 256, kernel_size=(1, 1), stride=(1, 1))\n",
            "          (batchnorm): BatchNorm2d(256, eps=1e-05, momentum=0.1, affine=True, track_running_stats=True)\n",
            "        )\n",
            "      )\n",
            "    )\n",
            "    (1): Bottleneck(\n",
            "      (conv1): conv_block(\n",
            "        (conv): Conv2d(256, 64, kernel_size=(1, 1), stride=(1, 1))\n",
            "        (batchnorm): BatchNorm2d(64, eps=1e-05, momentum=0.1, affine=True, track_running_stats=True)\n",
            "      )\n",
            "      (conv2): conv_block(\n",
            "        (conv): Conv2d(64, 64, kernel_size=(3, 3), stride=(1, 1), padding=(1, 1))\n",
            "        (batchnorm): BatchNorm2d(64, eps=1e-05, momentum=0.1, affine=True, track_running_stats=True)\n",
            "      )\n",
            "      (conv3): conv_block(\n",
            "        (conv): Conv2d(64, 256, kernel_size=(1, 1), stride=(1, 1))\n",
            "        (batchnorm): BatchNorm2d(256, eps=1e-05, momentum=0.1, affine=True, track_running_stats=True)\n",
            "      )\n",
            "      (relu): ReLU()\n",
            "    )\n",
            "    (2): Bottleneck(\n",
            "      (conv1): conv_block(\n",
            "        (conv): Conv2d(256, 64, kernel_size=(1, 1), stride=(1, 1))\n",
            "        (batchnorm): BatchNorm2d(64, eps=1e-05, momentum=0.1, affine=True, track_running_stats=True)\n",
            "      )\n",
            "      (conv2): conv_block(\n",
            "        (conv): Conv2d(64, 64, kernel_size=(3, 3), stride=(1, 1), padding=(1, 1))\n",
            "        (batchnorm): BatchNorm2d(64, eps=1e-05, momentum=0.1, affine=True, track_running_stats=True)\n",
            "      )\n",
            "      (conv3): conv_block(\n",
            "        (conv): Conv2d(64, 256, kernel_size=(1, 1), stride=(1, 1))\n",
            "        (batchnorm): BatchNorm2d(256, eps=1e-05, momentum=0.1, affine=True, track_running_stats=True)\n",
            "      )\n",
            "      (relu): ReLU()\n",
            "    )\n",
            "  )\n",
            "  (layer2): Sequential(\n",
            "    (0): Bottleneck(\n",
            "      (conv1): conv_block(\n",
            "        (conv): Conv2d(256, 128, kernel_size=(1, 1), stride=(1, 1))\n",
            "        (batchnorm): BatchNorm2d(128, eps=1e-05, momentum=0.1, affine=True, track_running_stats=True)\n",
            "      )\n",
            "      (conv2): conv_block(\n",
            "        (conv): Conv2d(128, 128, kernel_size=(3, 3), stride=(2, 2), padding=(1, 1))\n",
            "        (batchnorm): BatchNorm2d(128, eps=1e-05, momentum=0.1, affine=True, track_running_stats=True)\n",
            "      )\n",
            "      (conv3): conv_block(\n",
            "        (conv): Conv2d(128, 512, kernel_size=(1, 1), stride=(1, 1))\n",
            "        (batchnorm): BatchNorm2d(512, eps=1e-05, momentum=0.1, affine=True, track_running_stats=True)\n",
            "      )\n",
            "      (relu): ReLU()\n",
            "      (downsample): Sequential(\n",
            "        (0): conv_block(\n",
            "          (conv): Conv2d(256, 512, kernel_size=(1, 1), stride=(2, 2))\n",
            "          (batchnorm): BatchNorm2d(512, eps=1e-05, momentum=0.1, affine=True, track_running_stats=True)\n",
            "        )\n",
            "      )\n",
            "    )\n",
            "    (1): Bottleneck(\n",
            "      (conv1): conv_block(\n",
            "        (conv): Conv2d(512, 128, kernel_size=(1, 1), stride=(1, 1))\n",
            "        (batchnorm): BatchNorm2d(128, eps=1e-05, momentum=0.1, affine=True, track_running_stats=True)\n",
            "      )\n",
            "      (conv2): conv_block(\n",
            "        (conv): Conv2d(128, 128, kernel_size=(3, 3), stride=(1, 1), padding=(1, 1))\n",
            "        (batchnorm): BatchNorm2d(128, eps=1e-05, momentum=0.1, affine=True, track_running_stats=True)\n",
            "      )\n",
            "      (conv3): conv_block(\n",
            "        (conv): Conv2d(128, 512, kernel_size=(1, 1), stride=(1, 1))\n",
            "        (batchnorm): BatchNorm2d(512, eps=1e-05, momentum=0.1, affine=True, track_running_stats=True)\n",
            "      )\n",
            "      (relu): ReLU()\n",
            "    )\n",
            "    (2): Bottleneck(\n",
            "      (conv1): conv_block(\n",
            "        (conv): Conv2d(512, 128, kernel_size=(1, 1), stride=(1, 1))\n",
            "        (batchnorm): BatchNorm2d(128, eps=1e-05, momentum=0.1, affine=True, track_running_stats=True)\n",
            "      )\n",
            "      (conv2): conv_block(\n",
            "        (conv): Conv2d(128, 128, kernel_size=(3, 3), stride=(1, 1), padding=(1, 1))\n",
            "        (batchnorm): BatchNorm2d(128, eps=1e-05, momentum=0.1, affine=True, track_running_stats=True)\n",
            "      )\n",
            "      (conv3): conv_block(\n",
            "        (conv): Conv2d(128, 512, kernel_size=(1, 1), stride=(1, 1))\n",
            "        (batchnorm): BatchNorm2d(512, eps=1e-05, momentum=0.1, affine=True, track_running_stats=True)\n",
            "      )\n",
            "      (relu): ReLU()\n",
            "    )\n",
            "    (3): Bottleneck(\n",
            "      (conv1): conv_block(\n",
            "        (conv): Conv2d(512, 128, kernel_size=(1, 1), stride=(1, 1))\n",
            "        (batchnorm): BatchNorm2d(128, eps=1e-05, momentum=0.1, affine=True, track_running_stats=True)\n",
            "      )\n",
            "      (conv2): conv_block(\n",
            "        (conv): Conv2d(128, 128, kernel_size=(3, 3), stride=(1, 1), padding=(1, 1))\n",
            "        (batchnorm): BatchNorm2d(128, eps=1e-05, momentum=0.1, affine=True, track_running_stats=True)\n",
            "      )\n",
            "      (conv3): conv_block(\n",
            "        (conv): Conv2d(128, 512, kernel_size=(1, 1), stride=(1, 1))\n",
            "        (batchnorm): BatchNorm2d(512, eps=1e-05, momentum=0.1, affine=True, track_running_stats=True)\n",
            "      )\n",
            "      (relu): ReLU()\n",
            "    )\n",
            "  )\n",
            "  (layer3): Sequential(\n",
            "    (0): Bottleneck(\n",
            "      (conv1): conv_block(\n",
            "        (conv): Conv2d(512, 256, kernel_size=(1, 1), stride=(1, 1))\n",
            "        (batchnorm): BatchNorm2d(256, eps=1e-05, momentum=0.1, affine=True, track_running_stats=True)\n",
            "      )\n",
            "      (conv2): conv_block(\n",
            "        (conv): Conv2d(256, 256, kernel_size=(3, 3), stride=(2, 2), padding=(1, 1))\n",
            "        (batchnorm): BatchNorm2d(256, eps=1e-05, momentum=0.1, affine=True, track_running_stats=True)\n",
            "      )\n",
            "      (conv3): conv_block(\n",
            "        (conv): Conv2d(256, 1024, kernel_size=(1, 1), stride=(1, 1))\n",
            "        (batchnorm): BatchNorm2d(1024, eps=1e-05, momentum=0.1, affine=True, track_running_stats=True)\n",
            "      )\n",
            "      (relu): ReLU()\n",
            "      (downsample): Sequential(\n",
            "        (0): conv_block(\n",
            "          (conv): Conv2d(512, 1024, kernel_size=(1, 1), stride=(2, 2))\n",
            "          (batchnorm): BatchNorm2d(1024, eps=1e-05, momentum=0.1, affine=True, track_running_stats=True)\n",
            "        )\n",
            "      )\n",
            "    )\n",
            "    (1): Bottleneck(\n",
            "      (conv1): conv_block(\n",
            "        (conv): Conv2d(1024, 256, kernel_size=(1, 1), stride=(1, 1))\n",
            "        (batchnorm): BatchNorm2d(256, eps=1e-05, momentum=0.1, affine=True, track_running_stats=True)\n",
            "      )\n",
            "      (conv2): conv_block(\n",
            "        (conv): Conv2d(256, 256, kernel_size=(3, 3), stride=(1, 1), padding=(1, 1))\n",
            "        (batchnorm): BatchNorm2d(256, eps=1e-05, momentum=0.1, affine=True, track_running_stats=True)\n",
            "      )\n",
            "      (conv3): conv_block(\n",
            "        (conv): Conv2d(256, 1024, kernel_size=(1, 1), stride=(1, 1))\n",
            "        (batchnorm): BatchNorm2d(1024, eps=1e-05, momentum=0.1, affine=True, track_running_stats=True)\n",
            "      )\n",
            "      (relu): ReLU()\n",
            "    )\n",
            "    (2): Bottleneck(\n",
            "      (conv1): conv_block(\n",
            "        (conv): Conv2d(1024, 256, kernel_size=(1, 1), stride=(1, 1))\n",
            "        (batchnorm): BatchNorm2d(256, eps=1e-05, momentum=0.1, affine=True, track_running_stats=True)\n",
            "      )\n",
            "      (conv2): conv_block(\n",
            "        (conv): Conv2d(256, 256, kernel_size=(3, 3), stride=(1, 1), padding=(1, 1))\n",
            "        (batchnorm): BatchNorm2d(256, eps=1e-05, momentum=0.1, affine=True, track_running_stats=True)\n",
            "      )\n",
            "      (conv3): conv_block(\n",
            "        (conv): Conv2d(256, 1024, kernel_size=(1, 1), stride=(1, 1))\n",
            "        (batchnorm): BatchNorm2d(1024, eps=1e-05, momentum=0.1, affine=True, track_running_stats=True)\n",
            "      )\n",
            "      (relu): ReLU()\n",
            "    )\n",
            "    (3): Bottleneck(\n",
            "      (conv1): conv_block(\n",
            "        (conv): Conv2d(1024, 256, kernel_size=(1, 1), stride=(1, 1))\n",
            "        (batchnorm): BatchNorm2d(256, eps=1e-05, momentum=0.1, affine=True, track_running_stats=True)\n",
            "      )\n",
            "      (conv2): conv_block(\n",
            "        (conv): Conv2d(256, 256, kernel_size=(3, 3), stride=(1, 1), padding=(1, 1))\n",
            "        (batchnorm): BatchNorm2d(256, eps=1e-05, momentum=0.1, affine=True, track_running_stats=True)\n",
            "      )\n",
            "      (conv3): conv_block(\n",
            "        (conv): Conv2d(256, 1024, kernel_size=(1, 1), stride=(1, 1))\n",
            "        (batchnorm): BatchNorm2d(1024, eps=1e-05, momentum=0.1, affine=True, track_running_stats=True)\n",
            "      )\n",
            "      (relu): ReLU()\n",
            "    )\n",
            "    (4): Bottleneck(\n",
            "      (conv1): conv_block(\n",
            "        (conv): Conv2d(1024, 256, kernel_size=(1, 1), stride=(1, 1))\n",
            "        (batchnorm): BatchNorm2d(256, eps=1e-05, momentum=0.1, affine=True, track_running_stats=True)\n",
            "      )\n",
            "      (conv2): conv_block(\n",
            "        (conv): Conv2d(256, 256, kernel_size=(3, 3), stride=(1, 1), padding=(1, 1))\n",
            "        (batchnorm): BatchNorm2d(256, eps=1e-05, momentum=0.1, affine=True, track_running_stats=True)\n",
            "      )\n",
            "      (conv3): conv_block(\n",
            "        (conv): Conv2d(256, 1024, kernel_size=(1, 1), stride=(1, 1))\n",
            "        (batchnorm): BatchNorm2d(1024, eps=1e-05, momentum=0.1, affine=True, track_running_stats=True)\n",
            "      )\n",
            "      (relu): ReLU()\n",
            "    )\n",
            "    (5): Bottleneck(\n",
            "      (conv1): conv_block(\n",
            "        (conv): Conv2d(1024, 256, kernel_size=(1, 1), stride=(1, 1))\n",
            "        (batchnorm): BatchNorm2d(256, eps=1e-05, momentum=0.1, affine=True, track_running_stats=True)\n",
            "      )\n",
            "      (conv2): conv_block(\n",
            "        (conv): Conv2d(256, 256, kernel_size=(3, 3), stride=(1, 1), padding=(1, 1))\n",
            "        (batchnorm): BatchNorm2d(256, eps=1e-05, momentum=0.1, affine=True, track_running_stats=True)\n",
            "      )\n",
            "      (conv3): conv_block(\n",
            "        (conv): Conv2d(256, 1024, kernel_size=(1, 1), stride=(1, 1))\n",
            "        (batchnorm): BatchNorm2d(1024, eps=1e-05, momentum=0.1, affine=True, track_running_stats=True)\n",
            "      )\n",
            "      (relu): ReLU()\n",
            "    )\n",
            "  )\n",
            "  (layer4): Sequential(\n",
            "    (0): Bottleneck(\n",
            "      (conv1): conv_block(\n",
            "        (conv): Conv2d(1024, 512, kernel_size=(1, 1), stride=(1, 1))\n",
            "        (batchnorm): BatchNorm2d(512, eps=1e-05, momentum=0.1, affine=True, track_running_stats=True)\n",
            "      )\n",
            "      (conv2): conv_block(\n",
            "        (conv): Conv2d(512, 512, kernel_size=(3, 3), stride=(2, 2), padding=(1, 1))\n",
            "        (batchnorm): BatchNorm2d(512, eps=1e-05, momentum=0.1, affine=True, track_running_stats=True)\n",
            "      )\n",
            "      (conv3): conv_block(\n",
            "        (conv): Conv2d(512, 2048, kernel_size=(1, 1), stride=(1, 1))\n",
            "        (batchnorm): BatchNorm2d(2048, eps=1e-05, momentum=0.1, affine=True, track_running_stats=True)\n",
            "      )\n",
            "      (relu): ReLU()\n",
            "      (downsample): Sequential(\n",
            "        (0): conv_block(\n",
            "          (conv): Conv2d(1024, 2048, kernel_size=(1, 1), stride=(2, 2))\n",
            "          (batchnorm): BatchNorm2d(2048, eps=1e-05, momentum=0.1, affine=True, track_running_stats=True)\n",
            "        )\n",
            "      )\n",
            "    )\n",
            "    (1): Bottleneck(\n",
            "      (conv1): conv_block(\n",
            "        (conv): Conv2d(2048, 512, kernel_size=(1, 1), stride=(1, 1))\n",
            "        (batchnorm): BatchNorm2d(512, eps=1e-05, momentum=0.1, affine=True, track_running_stats=True)\n",
            "      )\n",
            "      (conv2): conv_block(\n",
            "        (conv): Conv2d(512, 512, kernel_size=(3, 3), stride=(1, 1), padding=(1, 1))\n",
            "        (batchnorm): BatchNorm2d(512, eps=1e-05, momentum=0.1, affine=True, track_running_stats=True)\n",
            "      )\n",
            "      (conv3): conv_block(\n",
            "        (conv): Conv2d(512, 2048, kernel_size=(1, 1), stride=(1, 1))\n",
            "        (batchnorm): BatchNorm2d(2048, eps=1e-05, momentum=0.1, affine=True, track_running_stats=True)\n",
            "      )\n",
            "      (relu): ReLU()\n",
            "    )\n",
            "    (2): Bottleneck(\n",
            "      (conv1): conv_block(\n",
            "        (conv): Conv2d(2048, 512, kernel_size=(1, 1), stride=(1, 1))\n",
            "        (batchnorm): BatchNorm2d(512, eps=1e-05, momentum=0.1, affine=True, track_running_stats=True)\n",
            "      )\n",
            "      (conv2): conv_block(\n",
            "        (conv): Conv2d(512, 512, kernel_size=(3, 3), stride=(1, 1), padding=(1, 1))\n",
            "        (batchnorm): BatchNorm2d(512, eps=1e-05, momentum=0.1, affine=True, track_running_stats=True)\n",
            "      )\n",
            "      (conv3): conv_block(\n",
            "        (conv): Conv2d(512, 2048, kernel_size=(1, 1), stride=(1, 1))\n",
            "        (batchnorm): BatchNorm2d(2048, eps=1e-05, momentum=0.1, affine=True, track_running_stats=True)\n",
            "      )\n",
            "      (relu): ReLU()\n",
            "    )\n",
            "  )\n",
            "  (avgpool): AdaptiveAvgPool2d(output_size=(1, 1))\n",
            "  (fc): Linear(in_features=2048, out_features=10, bias=True)\n",
            ")\n"
          ]
        }
      ]
    },
    {
      "cell_type": "code",
      "source": [
        "criterion = nn.CrossEntropyLoss()\n",
        "optimizer = torch.optim.Adam(resnet.parameters(), lr=learning_rate)"
      ],
      "metadata": {
        "id": "QPBtgTRYwgUC"
      },
      "execution_count": 8,
      "outputs": []
    },
    {
      "cell_type": "code",
      "source": [
        "def count_parameters(model):\n",
        "  return sum(p.numel() for p in model.parameters() if p.requires_grad)\n",
        "count_parameters(resnet)"
      ],
      "metadata": {
        "colab": {
          "base_uri": "https://localhost:8080/"
        },
        "id": "rYrcITZMwk6g",
        "outputId": "2ee388ce-8a6e-44e0-b0df-d005f5c25b51"
      },
      "execution_count": 9,
      "outputs": [
        {
          "output_type": "execute_result",
          "data": {
            "text/plain": [
              "23555082"
            ]
          },
          "metadata": {},
          "execution_count": 9
        }
      ]
    },
    {
      "cell_type": "code",
      "source": [
        "n_total_steps = len(train_loader)\n",
        "for epoch in tqdm(range(num_epochs)):\n",
        "  for i, (images, labels) in enumerate(train_loader):\n",
        "    # origin shape: [64, 3, 224, 224]\n",
        "    images = images.to(device)\n",
        "    labels = labels.to(device)\n",
        "    # Forward pass\n",
        "    \n",
        "    outputs = resnet(images)\n",
        "    loss = criterion(outputs, labels)\n",
        "    # Backward and optimize\n",
        "    optimizer.zero_grad()\n",
        "    loss.backward()\n",
        "    optimizer.step()\n",
        "\n",
        "    if (i+1) % 100 == 0:\n",
        "        print (f'Epoch [{epoch+1}/{num_epochs}], Step [{i+1}/{n_total_steps}], Loss: {loss.item():.4f}')"
      ],
      "metadata": {
        "colab": {
          "base_uri": "https://localhost:8080/"
        },
        "id": "oD-JZW_2wnTz",
        "outputId": "ee551986-7164-4410-bad1-3079f090c519"
      },
      "execution_count": null,
      "outputs": [
        {
          "metadata": {
            "tags": null
          },
          "name": "stderr",
          "output_type": "stream",
          "text": [
            "\r  0%|          | 0/10 [00:00<?, ?it/s]"
          ]
        },
        {
          "metadata": {
            "tags": null
          },
          "name": "stdout",
          "output_type": "stream",
          "text": [
            "Epoch [1/10], Step [100/782], Loss: 1.6446\n",
            "Epoch [1/10], Step [200/782], Loss: 1.7051\n",
            "Epoch [1/10], Step [300/782], Loss: 1.3484\n",
            "Epoch [1/10], Step [400/782], Loss: 1.3323\n",
            "Epoch [1/10], Step [500/782], Loss: 1.3191\n",
            "Epoch [1/10], Step [600/782], Loss: 1.4661\n",
            "Epoch [1/10], Step [700/782], Loss: 1.1586\n"
          ]
        },
        {
          "metadata": {
            "tags": null
          },
          "name": "stderr",
          "output_type": "stream",
          "text": [
            "\r 10%|█         | 1/10 [10:07<1:31:07, 607.48s/it]"
          ]
        },
        {
          "metadata": {
            "tags": null
          },
          "name": "stdout",
          "output_type": "stream",
          "text": [
            "Epoch [2/10], Step [100/782], Loss: 1.2545\n",
            "Epoch [2/10], Step [200/782], Loss: 1.0592\n",
            "Epoch [2/10], Step [300/782], Loss: 0.7239\n",
            "Epoch [2/10], Step [400/782], Loss: 0.9873\n",
            "Epoch [2/10], Step [500/782], Loss: 0.7252\n",
            "Epoch [2/10], Step [600/782], Loss: 0.8789\n",
            "Epoch [2/10], Step [700/782], Loss: 0.8642\n"
          ]
        },
        {
          "metadata": {
            "tags": null
          },
          "name": "stderr",
          "output_type": "stream",
          "text": [
            "\r 20%|██        | 2/10 [20:12<1:20:50, 606.32s/it]"
          ]
        },
        {
          "metadata": {
            "tags": null
          },
          "name": "stdout",
          "output_type": "stream",
          "text": [
            "Epoch [3/10], Step [100/782], Loss: 0.6957\n",
            "Epoch [3/10], Step [200/782], Loss: 0.7859\n"
          ]
        }
      ]
    },
    {
      "cell_type": "code",
      "source": [
        "with torch.no_grad():\n",
        "  n_correct = 0\n",
        "  n_samples = 0\n",
        "  n_class_correct = [0 for i in range(10)]\n",
        "  n_class_samples = [0 for i in range(10)]\n",
        "  for images, labels in test_loader:\n",
        "    images = images.to(device)\n",
        "    labels = labels.to(device)\n",
        "    outputs = resnet(images)\n",
        "    # max returns (value ,index)\n",
        "    _, predicted = torch.max(outputs, 1)\n",
        "    n_samples += labels.size(0)\n",
        "    n_correct += (predicted == labels).sum().item()\n",
        "\n",
        "  acc = 100.0 * n_correct / n_samples\n",
        "  print(f'Accuracy of the network: {acc} %')"
      ],
      "metadata": {
        "id": "2cu_VTuUwqTt"
      },
      "execution_count": null,
      "outputs": []
    }
  ]
}