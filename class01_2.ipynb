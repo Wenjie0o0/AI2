{
  "nbformat": 4,
  "nbformat_minor": 0,
  "metadata": {
    "colab": {
      "name": "class01-2.ipynb",
      "provenance": [],
      "authorship_tag": "ABX9TyONxWVAv4N2LHjPnsdKUz1i",
      "include_colab_link": true
    },
    "kernelspec": {
      "name": "python3",
      "display_name": "Python 3"
    },
    "language_info": {
      "name": "python"
    }
  },
  "cells": [
    {
      "cell_type": "markdown",
      "metadata": {
        "id": "view-in-github",
        "colab_type": "text"
      },
      "source": [
        "<a href=\"https://colab.research.google.com/github/Wenjie0o0/ClassAI/blob/main/class01_2.ipynb\" target=\"_parent\"><img src=\"https://colab.research.google.com/assets/colab-badge.svg\" alt=\"Open In Colab\"/></a>"
      ]
    },
    {
      "cell_type": "code",
      "execution_count": 1,
      "metadata": {
        "id": "H4zPT1JdkkA2"
      },
      "outputs": [],
      "source": [
        "import torch\n",
        "import torch.nn as nn"
      ]
    },
    {
      "cell_type": "code",
      "source": [
        "y_hat=torch.tensor([[0.77],[0.2],[0.12],[0.97]])\n",
        "y=torch.tensor([[1.],[0.],[0.],[1.]])\n",
        "bce=nn.BCELoss(reduction=\"none\")\n",
        "loss=bce(y_hat,y)\n",
        "print(loss)"
      ],
      "metadata": {
        "colab": {
          "base_uri": "https://localhost:8080/"
        },
        "id": "kBsZaDGzkuB6",
        "outputId": "58d0aa02-36e9-4616-b18e-cc8262a8d343"
      },
      "execution_count": 2,
      "outputs": [
        {
          "output_type": "stream",
          "name": "stdout",
          "text": [
            "tensor([[0.2614],\n",
            "        [0.2231],\n",
            "        [0.1278],\n",
            "        [0.0305]])\n"
          ]
        }
      ]
    },
    {
      "cell_type": "code",
      "source": [
        "output=torch.tensor([[1.6,-0.8,3.7],[0.2,-3.2,-1.6]])\n",
        "softmax=nn.Softmax(dim=1)\n",
        "print(softmax(output))"
      ],
      "metadata": {
        "colab": {
          "base_uri": "https://localhost:8080/"
        },
        "id": "ZWmZAVEqnJoV",
        "outputId": "cb514fdb-984d-4996-9793-640a319f1fc0"
      },
      "execution_count": 5,
      "outputs": [
        {
          "output_type": "stream",
          "name": "stdout",
          "text": [
            "tensor([[0.1080, 0.0098, 0.8822],\n",
            "        [0.8343, 0.0278, 0.1379]])\n"
          ]
        }
      ]
    }
  ]
}