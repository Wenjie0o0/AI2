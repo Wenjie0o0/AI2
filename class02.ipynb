{
  "nbformat": 4,
  "nbformat_minor": 0,
  "metadata": {
    "colab": {
      "name": "class02.ipynb",
      "provenance": [],
      "authorship_tag": "ABX9TyPDPfsLtts84G6ycLwPh05r",
      "include_colab_link": true
    },
    "kernelspec": {
      "name": "python3",
      "display_name": "Python 3"
    },
    "language_info": {
      "name": "python"
    }
  },
  "cells": [
    {
      "cell_type": "markdown",
      "metadata": {
        "id": "view-in-github",
        "colab_type": "text"
      },
      "source": [
        "<a href=\"https://colab.research.google.com/github/Wenjie0o0/ClassAI/blob/main/class02.ipynb\" target=\"_parent\"><img src=\"https://colab.research.google.com/assets/colab-badge.svg\" alt=\"Open In Colab\"/></a>"
      ]
    },
    {
      "cell_type": "code",
      "execution_count": 1,
      "metadata": {
        "id": "OQscw-ThMyUr"
      },
      "outputs": [],
      "source": [
        "import torch\n",
        "import torch.nn as nn"
      ]
    },
    {
      "cell_type": "code",
      "source": [
        "# grad = True\n",
        "tensor = torch.rand(3, requires_grad=True)\n",
        "print(tensor)\n",
        "y = tensor + 6\n",
        "print(y)\n",
        "z = 3*y**2 + 2\n",
        "print(z)\n",
        "z = z.mean()\n",
        "print(z)\n",
        "z.backward() # dz/d(tensor)\n",
        "print(tensor.grad) # 2*tensor + 12"
      ],
      "metadata": {
        "colab": {
          "base_uri": "https://localhost:8080/"
        },
        "id": "PU6GuZ2xYNUP",
        "outputId": "35d07f5d-e4fa-47e8-f567-7a8af4d6a9f0"
      },
      "execution_count": 2,
      "outputs": [
        {
          "output_type": "stream",
          "name": "stdout",
          "text": [
            "tensor([0.9013, 0.8869, 0.0431], requires_grad=True)\n",
            "tensor([6.9013, 6.8869, 6.0431], grad_fn=<AddBackward0>)\n",
            "tensor([144.8849, 144.2887, 111.5558], grad_fn=<AddBackward0>)\n",
            "tensor(133.5765, grad_fn=<MeanBackward0>)\n",
            "tensor([13.8027, 13.7738, 12.0861])\n"
          ]
        }
      ]
    },
    {
      "cell_type": "code",
      "source": [
        "#toy example\n",
        "x=torch.tensor([[1,-1],[2,3],[5,2]],dtype=torch.float32)\n",
        "y=torch.tensor([[1],[0],[1]],dtype=torch.float32)\n",
        "\n",
        "w1=torch.rand(2,3,requires_grad=True)\n",
        "w2=torch.rand(3,3,requires_grad=True)\n",
        "w3=torch.rand(3,2,requires_grad=True)\n",
        "w4=torch.rand(2,1,requires_grad=True)\n",
        "relu=nn.ReLU()\n",
        "sigmod=nn.Sigmoid()\n",
        "bce=nn.BCELoss()\n",
        "\n",
        "def forward(inputs):\n",
        "  inputs=torch.matmul(inputs,w1)\n",
        "  inputs=relu(inputs)\n",
        "  inputs=torch.matmul(inputs,w2)\n",
        "  inputs=relu(inputs)\n",
        "  inputs=torch.matmul(inputs,w3)\n",
        "  inputs=relu(inputs)\n",
        "  inputs=torch.matmul(inputs,w4)\n",
        "  outputs=sigmod(inputs)\n",
        "  return outputs\n",
        "\n",
        "#loss\n",
        "def loss(y_true,y_pred):\n",
        "  return bce(y_pred,y_true)\n",
        "learning_rate=0.01\n",
        "epochs=10\n",
        "\n",
        "for epoch in range(epochs):\n",
        "  y_hat=forward(inputs=x)\n",
        "\n",
        "  bce_loss=loss(y_true=y,y_pred=y_hat)\n",
        "  bce_loss.backward()\n",
        "  with torch.no_grad():\n",
        "    w1-=learning_rate*w1.grad\n",
        "    w2-=learning_rate*w2.grad\n",
        "    w3-=learning_rate*w3.grad\n",
        "    w4-=learning_rate*w4.grad\n",
        "\n",
        "  w1.grad.zero_()\n",
        "  w2.grad.zero_()\n",
        "  w3.grad.zero_()\n",
        "  w4.grad.zero_()\n",
        "  if epoch % 5 == 0:\n",
        "    print(f\"epoch {epoch + 1}: \\nw1 = {w1}\\n w2 = {w2}\\n w3 = {w3}\\n w4 = {w4}, loss = {bce_loss:.8f}\")"
      ],
      "metadata": {
        "colab": {
          "base_uri": "https://localhost:8080/"
        },
        "id": "5FwsJgG9brqv",
        "outputId": "3aafebc7-ed6c-439a-818b-cbbd0bb0185e"
      },
      "execution_count": 5,
      "outputs": [
        {
          "output_type": "stream",
          "name": "stdout",
          "text": [
            "epoch 1: \n",
            "w1 = tensor([[0.3722, 0.2103, 0.8484],\n",
            "        [0.2544, 0.8105, 0.8887]], requires_grad=True)\n",
            " w2 = tensor([[0.5339, 0.2370, 0.0421],\n",
            "        [0.0281, 0.2062, 0.8816],\n",
            "        [0.3940, 0.7964, 0.2946]], requires_grad=True)\n",
            " w3 = tensor([[0.4189, 0.5266],\n",
            "        [0.1572, 0.4123],\n",
            "        [0.7728, 0.5325]], requires_grad=True)\n",
            " w4 = tensor([[0.7007],\n",
            "        [0.1097]], requires_grad=True), loss = 1.64672911\n",
            "epoch 6: \n",
            "w1 = tensor([[0.3674, 0.1946, 0.8369],\n",
            "        [0.2423, 0.7861, 0.8709]], requires_grad=True)\n",
            " w2 = tensor([[0.5269, 0.2342, 0.0299],\n",
            "        [0.0141, 0.2007, 0.8572],\n",
            "        [0.3727, 0.7879, 0.2573]], requires_grad=True)\n",
            " w3 = tensor([[0.3927, 0.5235],\n",
            "        [0.1115, 0.4070],\n",
            "        [0.7335, 0.5279]], requires_grad=True)\n",
            " w4 = tensor([[0.6312],\n",
            "        [0.0305]], requires_grad=True), loss = 1.21439981\n"
          ]
        }
      ]
    },
    {
      "cell_type": "markdown",
      "source": [
        "Dataset & DataLoader"
      ],
      "metadata": {
        "id": "rn3tnYBinmFl"
      }
    },
    {
      "cell_type": "code",
      "source": [
        "from torch.utils.data import Dataset,DataLoader\n",
        "class ScoreDataset(Dataset):\n",
        "  def __init__(self):\n",
        "      self.x=torch.tensor([[1,2,3],[4,5,6],[7,8,9],[10,11,12],[13,14,15],[16,17,18]])\n",
        "      self.y=torch.tensor([[1],[0],[1],[1],[1],[0]])\n",
        "  def __getitem__(self, index):\n",
        "      return self.x[index],self.y[index]\n",
        "  def __len__(self):\n",
        "    return self.x.size(0)"
      ],
      "metadata": {
        "id": "TiEzVXasnryE"
      },
      "execution_count": 6,
      "outputs": []
    },
    {
      "cell_type": "code",
      "source": [
        "score_dataset=ScoreDataset()"
      ],
      "metadata": {
        "id": "GbgfFpuZpvkd"
      },
      "execution_count": 7,
      "outputs": []
    },
    {
      "cell_type": "code",
      "source": [
        "print(score_dataset.x)\n",
        "print(score_dataset.y)"
      ],
      "metadata": {
        "colab": {
          "base_uri": "https://localhost:8080/"
        },
        "id": "ybYEn8d1p4Wd",
        "outputId": "16d0663a-ac29-4b37-a6c1-ba42926ea333"
      },
      "execution_count": 8,
      "outputs": [
        {
          "output_type": "stream",
          "name": "stdout",
          "text": [
            "tensor([[ 1,  2,  3],\n",
            "        [ 4,  5,  6],\n",
            "        [ 7,  8,  9],\n",
            "        [10, 11, 12],\n",
            "        [13, 14, 15],\n",
            "        [16, 17, 18]])\n",
            "tensor([[1],\n",
            "        [0],\n",
            "        [1],\n",
            "        [1],\n",
            "        [1],\n",
            "        [0]])\n"
          ]
        }
      ]
    },
    {
      "cell_type": "code",
      "source": [
        "dataloader=DataLoader(dataset=score_dataset,batch_size=2,shuffle=True)\n",
        "for i, (x,y) in enumerate(dataloader):\n",
        "  print(f\"{i}: x={x}, y={y}\")"
      ],
      "metadata": {
        "colab": {
          "base_uri": "https://localhost:8080/"
        },
        "id": "qqouvHIEqDrk",
        "outputId": "2a9be225-ad68-4846-dc6e-e672dda9ed18"
      },
      "execution_count": 10,
      "outputs": [
        {
          "output_type": "stream",
          "name": "stdout",
          "text": [
            "0: x=tensor([[16, 17, 18],\n",
            "        [ 7,  8,  9]]), y=tensor([[0],\n",
            "        [1]])\n",
            "1: x=tensor([[10, 11, 12],\n",
            "        [ 1,  2,  3]]), y=tensor([[1],\n",
            "        [1]])\n",
            "2: x=tensor([[13, 14, 15],\n",
            "        [ 4,  5,  6]]), y=tensor([[1],\n",
            "        [0]])\n"
          ]
        }
      ]
    }
  ]
}